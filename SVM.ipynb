{
 "cells": [
  {
   "cell_type": "code",
   "execution_count": 17,
   "metadata": {},
   "outputs": [
    {
     "name": "stdout",
     "output_type": "stream",
     "text": [
      "Gini accuracy 0.9166666666666666\n",
      "Entropy accuracy 0.9166666666666666\n",
      "Max depth accuracy 0.9166666666666666\n"
     ]
    }
   ],
   "source": [
    "import numpy as np\n",
    "import pandas as pd\n",
    "from sklearn.model_selection import train_test_split\n",
    "from sklearn import preprocessing\n",
    "from sklearn import metrics, svm\n",
    "\n",
    "data = pd.read_csv(\"fruit_types.csv\")\n",
    "\n",
    "X= data.iloc[:, 2:5]\n",
    "Y= data.iloc[:, 0]\n",
    "\n",
    "\n",
    "x_train, x_test, y_train, y_test = train_test_split(X, Y, test_size=.2, random_state=99)\n",
    "\n",
    "linear = svm.SVC(kernel=\"linear\")\n",
    "sigmoid = svm.SVC(kernel=\"sigmoid\")\n",
    "rbf = svm.SVC(kernel=\"rbf\")\n",
    "\n",
    "linear.fit(x_train, y_train)\n",
    "sigmoid.fit(x_train, y_train)\n",
    "rbf.fit(x_train, y_train)\n",
    "\n",
    "linear_pred = linear.predict(x_test)\n",
    "sigmoid_pred = linear.predict(x_test)\n",
    "rbf_pred = linear.predict(x_test)\n",
    "\n",
    "print(\"Gini accuracy\", metrics.accuracy_score(y_test, linear_pred))\n",
    "print(\"Entropy accuracy\", metrics.accuracy_score(y_test, sigmoid_pred))\n",
    "print(\"Max depth accuracy\", metrics.accuracy_score(y_test, rbf_pred))\n",
    "\n",
    "\n"
   ]
  }
 ],
 "metadata": {
  "interpreter": {
   "hash": "ac59ebe37160ed0dfa835113d9b8498d9f09ceb179beaac4002f036b9467c963"
  },
  "kernelspec": {
   "display_name": "Python 3.9.4 64-bit",
   "language": "python",
   "name": "python3"
  },
  "language_info": {
   "codemirror_mode": {
    "name": "ipython",
    "version": 3
   },
   "file_extension": ".py",
   "mimetype": "text/x-python",
   "name": "python",
   "nbconvert_exporter": "python",
   "pygments_lexer": "ipython3",
   "version": "3.9.4"
  },
  "orig_nbformat": 4
 },
 "nbformat": 4,
 "nbformat_minor": 2
}
