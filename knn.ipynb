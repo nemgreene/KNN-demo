{
 "cells": [
  {
   "cell_type": "code",
   "execution_count": 20,
   "metadata": {},
   "outputs": [
    {
     "name": "stdout",
     "output_type": "stream",
     "text": [
      "accuracy 0.9166666666666666\n",
      "RMSE 0.75\n"
     ]
    }
   ],
   "source": [
    "import numpy as np\n",
    "import pandas as pd\n",
    "from sklearn.neighbors import KNeighborsClassifier\n",
    "from sklearn.model_selection import train_test_split\n",
    "from sklearn import preprocessing\n",
    "from sklearn import metrics\n",
    "\n",
    "from math import sqrt\n",
    "\n",
    "data = pd.read_csv(\"fruit_types.csv\")\n",
    "\n",
    "\n",
    "encoder = preprocessing.LabelEncoder()\n",
    "\n",
    "fnEncoded = encoder.fit_transform(data.iloc[:, 0])\n",
    "fstEncoded = encoder.fit_transform(data.iloc[:, 1])\n",
    "mEncoded = encoder.fit_transform(data.iloc[:, 2])\n",
    "wEncoded = encoder.fit_transform(data.iloc[:, 3])\n",
    "hEncoded = encoder.fit_transform(data.iloc[:, 4])\n",
    "\n",
    "encodedData = list(zip(fnEncoded, fstEncoded, mEncoded, wEncoded, hEncoded))\n",
    "encodedData = pd.DataFrame(encodedData, columns=[\"fruit_name\", \"subtype\", \"mass\", \"width\", \"height\"])\n",
    "\n",
    "data_to_use = encodedData.iloc[:, 1:5]\n",
    "data_to_target = encodedData.iloc[:,0]\n",
    "\n",
    "x_train, x_test, y_train, y_test = train_test_split(data_to_use, data_to_target, test_size=.2, random_state=143)\n",
    "\n",
    "knn_model = KNeighborsClassifier(n_neighbors=3)\n",
    "knn_model.fit(x_train, y_train)\n",
    "\n",
    "y_pred = knn_model.predict(x_test)\n",
    "\n",
    "print(\"accuracy\", metrics.accuracy_score(y_test, y_pred))\n",
    "print(\"RMSE\", metrics.mean_squared_error(y_test, y_pred))\n",
    "\n",
    "\n"
   ]
  }
 ],
 "metadata": {
  "interpreter": {
   "hash": "ac59ebe37160ed0dfa835113d9b8498d9f09ceb179beaac4002f036b9467c963"
  },
  "kernelspec": {
   "display_name": "Python 3.9.4 64-bit",
   "language": "python",
   "name": "python3"
  },
  "language_info": {
   "codemirror_mode": {
    "name": "ipython",
    "version": 3
   },
   "file_extension": ".py",
   "mimetype": "text/x-python",
   "name": "python",
   "nbconvert_exporter": "python",
   "pygments_lexer": "ipython3",
   "version": "3.9.4"
  },
  "orig_nbformat": 4
 },
 "nbformat": 4,
 "nbformat_minor": 2
}
